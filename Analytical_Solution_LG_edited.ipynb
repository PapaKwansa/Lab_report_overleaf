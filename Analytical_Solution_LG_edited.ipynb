{
  "nbformat": 4,
  "nbformat_minor": 0,
  "metadata": {
    "colab": {
      "provenance": [],
      "gpuType": "V28",
      "include_colab_link": true
    },
    "kernelspec": {
      "name": "python3",
      "display_name": "Python 3"
    },
    "language_info": {
      "name": "python"
    },
    "accelerator": "TPU"
  },
  "cells": [
    {
      "cell_type": "markdown",
      "metadata": {
        "id": "view-in-github",
        "colab_type": "text"
      },
      "source": [
        "<a href=\"https://colab.research.google.com/github/PapaKwansa/Lab_report_overleaf/blob/master/Analytical_Solution_LG_edited.ipynb\" target=\"_parent\"><img src=\"https://colab.research.google.com/assets/colab-badge.svg\" alt=\"Open In Colab\"/></a>"
      ]
    },
    {
      "cell_type": "code",
      "source": [
        "import numpy as np\n",
        "import matplotlib.pyplot as plt\n",
        "from mpl_toolkits.mplot3d import Axes3D\n",
        "\n",
        "def C_matrix(x,y,z,a,b,c):\n",
        "  return np.array([\n",
        "    [x - a, y - b, z - c],  # Vertex 1\n",
        "    [x + a, y - b, z - c],  # Vertex 2\n",
        "    [x + a, y + b, z - c],  # Vertex 3\n",
        "    [x - a, y + b, z - c],  # Vertex 4\n",
        "    [x - a, y + b, z + c],  # Vertex 5\n",
        "    [x - a, y - b, z + c],  # Vertex 6\n",
        "    [x + a, y - b, z + c],  # Vertex 7\n",
        "    [x + a, y + b, z + c]   # Vertex 8\n",
        "])\n",
        "\n",
        "def R_n(n,C):\n",
        "  return np.linalg.norm(C[n])\n",
        "\n",
        "\n",
        "def delta(i,j):\n",
        "  return int(i==j)\n",
        "\n",
        "deltamod = np.array([[0,1,0],[0,0,1],[1,0,0]])\n",
        "\n",
        "def V0(x,y,z,a,b,c):\n",
        "  C = C_matrix(x,y,z,a,b,c)\n",
        "  R_n_list = [R_n(n,C) for n in range(8)]\n",
        "  result = 0\n",
        "  for n in range(8):\n",
        "    for i in range(3):\n",
        "      result += C[n,i]*C[n,(i+1)%3]*np.log(R_n_list[n]+C[n,(i+2)%3]) - (C[n,i]**2)/2*np.arctan((C[n,(i+1)%3]*C[n,(i+2)%3])/(C[n,i]*R_n_list[n]))\n",
        "    result *= ((-1)**(n+1))\n",
        "  return result\n",
        "\n",
        "def v10(x,y,z,a,b,c):\n",
        "   C = C_matrix(x,y,z,a,b,c)\n",
        "   R_n_list = [R_n(n,C) for n in range(8)]\n",
        "   result = np.zeros(3)\n",
        "   for i in range(3):\n",
        "    for n in range(8):\n",
        "        result[i] += ((-1)**(n+1)) * ((C[n,(i+1)%3])*np.log(R_n_list[n]+C[n,(i+2)%3])+C[n,(i+2)%3]*np.log(R_n_list[n]+C[n,(i+1)%3]) - (C[n,i])*np.arctan((C[n,(i+1)%3]*C[n,(i+2)%3])/(C[n,i]*R_n_list[n])))\n",
        "   return result\n",
        "\n",
        "def v20(x,y,z,a,b,c):\n",
        "   C = C_matrix(x,y,z,a,b,c)\n",
        "   R_n_list = [R_n(n,C) for n in range(8)]\n",
        "   result = np.zeros([3,3])\n",
        "   for i in range(3):\n",
        "    for j in range(3):\n",
        "      for n in range(8):\n",
        "        result[i,j] += ((-1)**(n+1)) * ((deltamod[i,j] * np.log(C[n, (j+1)%3] + R_n_list[n])) + deltamod[j,i] * np.log(C[n, (i+1)%3] + R_n_list[n]) - delta(i,j) * np.arctan((C[n,(i+1)%3]*C[n,(i+2)%3])/(C[n,i]*R_n_list[n])))\n",
        "   return result\n",
        "\n",
        "def v30(x,y,z,a,b,c):\n",
        "   C = C_matrix(x,y,z,a,b,c)\n",
        "   R_n_list = [R_n(n,C) for n in range(8)]\n",
        "   result = np.zeros([3,3])\n",
        "   for i in range(3):\n",
        "    for j in range(3):\n",
        "      for n in range(8):\n",
        "        result[i,j] += ((-1)**(n+1)) * (((deltamod[i,j] * (C[n, 2] + delta(i,0) * R_n_list[n]))/ (R_n_list[n] * (C[n, (i+2)%3] + R_n_list[n]))) + ((deltamod[j,i] * (C[n, 2] + delta(j,0) * R_n_list[n]))/ ((R_n_list[n] * (C[n, (j+2)%3] + R_n_list[n])))) - delta(i,j) * ((C[n, 0] * C[n, 1] *((1 - 2 * delta(i, 2)) * ((R_n_list[n]) ** 2) - (C[n, 2]**2))) / (R_n_list[n] * ((C[n, i] **2) * (R_n_list[n] **2)  + (C[n, (i+ 1)% 3] **2) * ((C[n, (i+ 2)% 3]) **2)))))\n",
        "   return result\n",
        "\n",
        "\n",
        "# Define the parameters\n",
        "p = 1e6  # Pressure in the inclusion\n",
        "nu = 0.25 # The Poisson's ratio\n",
        "E = 10e9  # Young's modulus\n",
        "alpha =  0.8 # Biot coefficient\n",
        "# ec = 5.3051647697e-6 # Characteristic strain, this is the ec for the trial answer.\n",
        "h =  2500 # Depth of the inclusion\n",
        "x = -900 # x-coordinate of the observation point\n",
        "y = 750 # y-coordinate of the observation point\n",
        "z = 60 # z-coordinate of the observation point\n",
        "a = 175\n",
        "b = 25\n",
        "c = 125\n",
        "ec = 5.3051647697 * (10 ** -6)\n",
        "\n",
        "def disp(x,y,z,a,b,c, ec, h):\n",
        "  result = np.zeros(3)\n",
        "  V101 = v10(x,y,z-h,a,b,c)\n",
        "  V102 = v10(x,y,-z-h,a,b,c)\n",
        "  v201 = v20(x,y,-z-h,a,b,c)\n",
        "  for i in range(3):\n",
        "    result[i] = -ec * (V101[i]+ (3 - 4 * nu) * V102[i] - 2 *(1 - 2 * delta(i,2))*z * v201[i,2])\n",
        "  return result\n",
        "\n",
        "def disp_prime(x,y,z,a,b,c, ec, h):\n",
        "  v201 = v20(x,y,z-h,a,b,c)\n",
        "  v202 = v20(x,y,-z-h,a,b,c)\n",
        "  v301 = v30(x,y,-z-h,a,b,c)\n",
        "  result = np.zeros([3,3])\n",
        "  for i in range(3):\n",
        "    for j in range(3):\n",
        "       result[i,j] = -ec * (v201[i,j] + ((3 - 4 * nu) * (1 - 2 * delta(j,2)) - 2 * (1 - 2 * delta(i, 2)) * delta(j,2)) * v202[i,j] + (-2)*(1- 2 * delta(i,2))*(1- 2 * delta(j,2)) * z * v301[i,j])\n",
        "  return result\n",
        "\n",
        "def strain(x,y,z,a,b,c, ec, h):\n",
        "  local_disp_prime = disp_prime(x,y,z,a,b,c, ec, h)\n",
        "  result = np.zeros([3,3])\n",
        "  for i in range(3):\n",
        "    for j in range(3):\n",
        "      result[i,j] = 0.5 * (local_disp_prime[i,j] + local_disp_prime[j,i])\n",
        "  return result\n",
        "\n",
        "#\n",
        "\n",
        "# Call all the functions for the computation....\n",
        "def main(x,y,z,a,b,c, ec, nu, h):\n",
        "  print(disp(x,y,z,a,b,c, ec, h))\n",
        "  print(disp_prime(x,y,z,a,b,c, ec, h))\n",
        "  print(strain(x,y,z,a,b,c, ec, h))\n",
        "\n",
        "main(x,y,z,a,b,c, ec, nu, h)"
      ],
      "metadata": {
        "id": "5blDQcjcniwp",
        "colab": {
          "base_uri": "https://localhost:8080/"
        },
        "outputId": "6f6e9d29-b441-4f6f-fb2b-ddffb5eb9af8"
      },
      "execution_count": null,
      "outputs": [
        {
          "output_type": "stream",
          "name": "stdout",
          "text": [
            "[-2.81186633e-06  2.35217980e-06 -8.36762309e-06]\n",
            "[[ 2.16592155e-09  8.03769994e-10  2.43586234e-09]\n",
            " [ 8.03769994e-10  2.46213840e-09 -2.04195224e-09]\n",
            " [-2.99105826e-09  2.50921802e-09 -1.54672670e-09]]\n",
            "[[ 2.16592155e-09  8.03769994e-10 -2.77597963e-10]\n",
            " [ 8.03769994e-10  2.46213840e-09  2.33632889e-10]\n",
            " [-2.77597963e-10  2.33632889e-10 -1.54672670e-09]]\n"
          ]
        }
      ]
    },
    {
      "cell_type": "code",
      "source": [],
      "metadata": {
        "id": "yiiUtnAEBUOw"
      },
      "execution_count": null,
      "outputs": []
    },
    {
      "cell_type": "code",
      "source": [],
      "metadata": {
        "id": "zNlV8sysvd1s"
      },
      "execution_count": null,
      "outputs": []
    }
  ]
}